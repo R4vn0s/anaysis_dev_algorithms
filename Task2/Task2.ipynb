{
 "cells": [
  {
   "cell_type": "markdown",
   "metadata": {},
   "source": [
    "## Task 2\n",
    "Carlos Andres Daza Rachen\n",
    "J4134C"
   ]
  },
  {
   "cell_type": "code",
   "execution_count": 2,
   "metadata": {},
   "outputs": [],
   "source": [
    "# import the libraries\n",
    "import matplotlib.pyplot as plt\n",
    "import numpy as np\n",
    "import math\n",
    "import time\n",
    "import random\n",
    "from datetime import datetime\n",
    "from time import perf_counter\n",
    "from time import perf_counter_ns\n",
    "from scipy.optimize import minimize, brute\n",
    "\n"
   ]
  },
  {
   "cell_type": "code",
   "execution_count": 3,
   "metadata": {},
   "outputs": [],
   "source": [
    "def f1(x):\n",
    "    return x**3\n",
    "\n",
    "def f2(x):\n",
    "    return abs(x-0.2)\n",
    "\n",
    "def f3(x):\n",
    "    return x * math.sin(1/x)"
   ]
  },
  {
   "cell_type": "markdown",
   "metadata": {},
   "source": [
    "### Exhaustive search"
   ]
  },
  {
   "cell_type": "code",
   "execution_count": 25,
   "metadata": {},
   "outputs": [],
   "source": [
    "def exhaustive(a, b, e, fx):\n",
    "    n = (b-a)/e\n",
    "    xk = []    \n",
    "\n",
    "    # running search\n",
    "    for k in range(int(n)):\n",
    "        x = a + k * (b-a)/n\n",
    "        xk.append(fx(x))\n",
    "    \n",
    "    min_index = np.argmin(xk)\n",
    "   \n",
    "    x_index = np.arange(a, b, e)\n",
    "\n",
    "    print(f'Iterations = {n}')\n",
    "    print(f'Calls = {n}')\n",
    "\n",
    "    return x_index[min_index], xk[min_index]"
   ]
  },
  {
   "cell_type": "markdown",
   "metadata": {},
   "source": [
    "### Dychotomy search"
   ]
  },
  {
   "cell_type": "code",
   "execution_count": 26,
   "metadata": {},
   "outputs": [],
   "source": [
    "def dichotomy(a, b, e, fx, verbose=False):\n",
    "\n",
    "    delta = random.uniform(0,e)\n",
    "\n",
    "    # steps of each iteration\n",
    "    steps = []\n",
    "    steps.append(f'a = {a}, b = {b}, delta = {delta}')\n",
    "\n",
    "    iter, f_iter = 0, 0\n",
    "    \n",
    "    while abs(a - b) > e:\n",
    "        # find central\n",
    "        x1 = (a + b - delta) / 2\n",
    "        x2 = (a + b + delta) / 2\n",
    "\n",
    "        # update a b\n",
    "        if fx(x1) <= fx(x2):\n",
    "            a, b = a, x2\n",
    "        else:\n",
    "            a, b = x1, b\n",
    "\n",
    "        steps.append(f'a = {a:.5f}, b = {b:.5f}, x1 = {x1:.5f}, x2 = {x2:.5f}, delta = {delta:.5f}')\n",
    "        iter += 1\n",
    "        f_iter += 2\n",
    "\n",
    "    if verbose:\n",
    "        print('\\n'.join(steps), end='\\n\\n')\n",
    "\n",
    "    print(f'Iterations = {iter}')\n",
    "    print(f'Calls = {f_iter}')\n",
    "    print(f'Minimum at x = {a:.4f} with value {fx(a):.4f}', end='\\n\\n')\n",
    "\n",
    "    return a, b, iter, f_iter"
   ]
  },
  {
   "cell_type": "markdown",
   "metadata": {},
   "source": [
    "### Golden section"
   ]
  },
  {
   "cell_type": "code",
   "execution_count": 27,
   "metadata": {},
   "outputs": [],
   "source": [
    "def golden(a, b, e, fx, verbose=False):\n",
    "\n",
    "    # step logs\n",
    "    steps = []\n",
    "\n",
    "    iter = 0\n",
    "\n",
    "    while abs(a - b) > e:\n",
    "        # find central on first iteration\n",
    "        if iter == 0:        \n",
    "            x1 = a + (3 - math.sqrt(5)) / 2 * (b - a)\n",
    "            x2 = b + (math.sqrt(5) - 3) / 2 * (b - a)\n",
    "\n",
    "            steps.append(f'a = {a:.5f}, b = {b:.5f}, x1 = {x1:.5f}, x2 = {x2:.5f}')\n",
    "\n",
    "            # f_iter += 1\n",
    "\n",
    "        # update a b\n",
    "        if fx(x1) <= fx(x2):\n",
    "            a, b, x2 = a, x2, x1\n",
    "            x1 = a + (3 - math.sqrt(5)) / 2 * (b - a)\n",
    "        else:\n",
    "            a, b, x1 = x1, b, x2\n",
    "            x2 = b + (math.sqrt(5) - 3) / 2 * (b - a)\n",
    "\n",
    "        steps.append(f'a = {a:.5f}, b = {b:.5f}, x1 = {x1:.5f}, x2 = {x2:.5f}')\n",
    "        iter += 1\n",
    "        # f_iter += 1\n",
    "\n",
    "    if verbose:\n",
    "        print('\\n'.join(steps), end='\\n\\n')\n",
    "    print(f'Iterations = {iter}')\n",
    "    print(f'Calls = {len(steps)}')\n",
    "    print(f'Minimum at x = {a:.4f} with value {fx(a):.4f}', end='\\n\\n')\n",
    "\n",
    "    ##return a, b, iter, len(steps)\n"
   ]
  },
  {
   "cell_type": "markdown",
   "metadata": {},
   "source": [
    "## X^3"
   ]
  },
  {
   "cell_type": "code",
   "execution_count": 28,
   "metadata": {},
   "outputs": [
    {
     "name": "stdout",
     "output_type": "stream",
     "text": [
      "Exhaustive Search\n",
      "Iterations = 1000.0\n",
      "Calls = 1000.0\n",
      "Minimum at x = 0.0 with value 0.0\n",
      "\n",
      "Dichotomy Search\n",
      "Iterations = 13\n",
      "Calls = 26\n",
      "Minimum at x = 0.0000 with value 0.0000\n",
      "\n",
      "Golden Section\n",
      "Iterations = 15\n",
      "Calls = 16\n",
      "Minimum at x = 0.0000 with value 0.0000\n",
      "\n"
     ]
    }
   ],
   "source": [
    "print('Exhaustive Search')\n",
    "x1_xmin, x1_fmin = exhaustive(0, 1, 0.001, f1)\n",
    "print(f'Minimum at x = {x1_xmin} with value {x1_fmin}', end='\\n\\n')\n",
    "\n",
    "print('Dichotomy Search')\n",
    "dichotomy(0, 1, 0.001, f1, verbose=False)\n",
    "\n",
    "print('Golden Section')\n",
    "golden(0, 1, 0.001, f1, verbose=False)\n",
    "\n"
   ]
  },
  {
   "cell_type": "markdown",
   "metadata": {},
   "source": [
    "## |x - 0.2| \n"
   ]
  },
  {
   "cell_type": "code",
   "execution_count": 29,
   "metadata": {},
   "outputs": [
    {
     "name": "stdout",
     "output_type": "stream",
     "text": [
      "Exhaustive Search\n",
      "Iterations = 1000.0\n",
      "Calls = 1000.0\n",
      "Minimum at x = 0.2 with value 0.0\n",
      "\n",
      "Dichotomy Search\n",
      "Iterations = 11\n",
      "Calls = 22\n",
      "Minimum at x = 0.1997 with value 0.0003\n",
      "\n",
      "Golden Section\n",
      "Iterations = 15\n",
      "Calls = 16\n",
      "Minimum at x = 0.1997 with value 0.0003\n",
      "\n"
     ]
    }
   ],
   "source": [
    "print('Exhaustive Search')\n",
    "x1_xmin, x1_fmin = exhaustive(0, 1, 0.001, f2)\n",
    "print(f'Minimum at x = {x1_xmin} with value {x1_fmin}', end='\\n\\n')\n",
    "\n",
    "print('Dichotomy Search')\n",
    "dichotomy(0, 1, 0.001, f2, verbose=False)\n",
    "\n",
    "print('Golden Section')\n",
    "golden(0, 1, 0.001, f2, verbose=False)"
   ]
  },
  {
   "cell_type": "markdown",
   "metadata": {},
   "source": [
    "## $x\\sin(1/x)$"
   ]
  },
  {
   "cell_type": "code",
   "execution_count": 30,
   "metadata": {},
   "outputs": [
    {
     "name": "stdout",
     "output_type": "stream",
     "text": [
      "Exhaustive Search\n",
      "Iterations = 999.0\n",
      "Calls = 999.0\n",
      "Minimum at x = 0.223 with value -0.21722461258083445\n",
      "\n",
      "Dichotomy Search\n",
      "Iterations = 12\n",
      "Calls = 24\n",
      "Minimum at x = 0.0419 with value -0.0403\n",
      "\n",
      "Golden Section\n",
      "Iterations = 15\n",
      "Calls = 16\n",
      "Minimum at x = 0.2222 with value -0.2172\n",
      "\n"
     ]
    }
   ],
   "source": [
    "print('Exhaustive Search')\n",
    "x1_xmin, x1_fmin = exhaustive(0.001, 1, 0.001, f3)\n",
    "print(f'Minimum at x = {x1_xmin} with value {x1_fmin}', end='\\n\\n')\n",
    "\n",
    "print('Dichotomy Search')\n",
    "dichotomy(0.001, 1, 0.001, f3, verbose=False)\n",
    "\n",
    "print('Golden Section')\n",
    "golden(0.001, 1, 0.001, f3, verbose=False)"
   ]
  },
  {
   "cell_type": "markdown",
   "metadata": {},
   "source": [
    "# Second point"
   ]
  },
  {
   "cell_type": "code",
   "execution_count": 4,
   "metadata": {},
   "outputs": [],
   "source": [
    "def ab(seed=None):\n",
    "    if seed != None:\n",
    "        random.seed(seed)\n",
    "    return random.random(), random.random()\n",
    "\n",
    "def noisy(a, b):\n",
    "    x = np.array([k/100 for k in range(100)])\n",
    "    y = np.array([(a * xk + b + np.random.normal(0,1)) for xk in x])    \n",
    "    return x, y\n",
    "    \n",
    "def linear_aprox(a, b, x):\n",
    "    return a * x + b\n",
    "\n",
    "def rational_aprox(a, b, x):\n",
    "    return a / (1 + b * x)\n",
    "\n",
    "def linear(init_point, *args):\n",
    "    '''please pass x and y into *args'''\n",
    "    a, b = init_point\n",
    "    x, y = args[0], args[1]    \n",
    "    return np.sum((linear_aprox(a,b,x) - y)**2)\n",
    "\n",
    "def rational(init_point, *args):\n",
    "    '''please pass x and y into *args'''\n",
    "    a, b = init_point\n",
    "    x, y = args[0], args[1]\n",
    "    return np.sum((rational_aprox(a, b, x) - y)**2)\n",
    "    "
   ]
  },
  {
   "cell_type": "code",
   "execution_count": 5,
   "metadata": {},
   "outputs": [],
   "source": [
    "a, b = ab(24)\n",
    "x, y = noisy(a, b)\n",
    "yk = a * x + b\n",
    "grid = (slice(a, b, 0.001), slice(a, b, 0.001))"
   ]
  },
  {
   "cell_type": "markdown",
   "metadata": {},
   "source": [
    "## Linear function"
   ]
  },
  {
   "cell_type": "code",
   "execution_count": 6,
   "metadata": {},
   "outputs": [
    {
     "name": "stdout",
     "output_type": "stream",
     "text": [
      "Exhaustive Search\n",
      "Optimization terminated successfully.\n",
      "         Current function value: 118.295906\n",
      "         Iterations: 29\n",
      "         Function evaluations: 55\n",
      "[0.43816204 1.01024621]\n",
      "\n",
      "Gauss (coordinate descent)\n",
      "Optimization terminated successfully.\n",
      "         Current function value: 118.296267\n",
      "         Iterations: 3\n",
      "         Function evaluations: 71\n",
      "[0.43960209 1.01138111]\n",
      "\n",
      "Nelder-Mead\n",
      "Optimization terminated successfully.\n",
      "         Current function value: 118.295907\n",
      "         Iterations: 21\n",
      "         Function evaluations: 41\n",
      "[0.43838247 1.01002754]\n",
      "\n"
     ]
    }
   ],
   "source": [
    "print('Exhaustive Search')\n",
    "exhaustive_linear = brute(linear, grid, args=(x, y), disp=True)\n",
    "print(exhaustive_linear, end='\\n\\n')\n",
    "\n",
    "print('Gauss (coordinate descent)')\n",
    "gauss_linear = minimize(linear, [a, b], args=(x, y), method='Powell', tol=0.001, options={'disp': True})\n",
    "print(gauss_linear['x'], end='\\n\\n')\n",
    "\n",
    "print('Nelder-Mead')\n",
    "nelder_linear = minimize(linear, [a, b], args=(x, y), method='nelder-mead', tol=0.001, options={'disp': True})\n",
    "print(nelder_linear['x'], end='\\n\\n')"
   ]
  },
  {
   "cell_type": "markdown",
   "metadata": {},
   "source": [
    "## Rational function"
   ]
  },
  {
   "cell_type": "code",
   "execution_count": 7,
   "metadata": {},
   "outputs": [
    {
     "name": "stdout",
     "output_type": "stream",
     "text": [
      "Exhaustive Search\n",
      "Optimization terminated successfully.\n",
      "         Current function value: 118.052691\n",
      "         Iterations: 41\n",
      "         Function evaluations: 81\n",
      "[ 1.00984536 -0.3337274 ]\n",
      "\n",
      "Gauss (coordinate descent)\n",
      "Optimization terminated successfully.\n",
      "         Current function value: 118.052691\n",
      "         Iterations: 5\n",
      "         Function evaluations: 121\n",
      "[ 1.00983226 -0.33377371]\n",
      "\n",
      "Nelder-Mead\n",
      "Optimization terminated successfully.\n",
      "         Current function value: 118.052695\n",
      "         Iterations: 38\n",
      "         Function evaluations: 75\n",
      "[ 1.00955137 -0.33397519]\n",
      "\n"
     ]
    }
   ],
   "source": [
    "print('Exhaustive Search')\n",
    "exhaustive_r = brute(rational, grid, args=(x, y), disp=True)\n",
    "print(exhaustive_r, end='\\n\\n')\n",
    "\n",
    "print('Gauss (coordinate descent)')\n",
    "gauss_r = minimize(rational, [a, b], args=(x, y), method='Powell', tol=0.001, options={'disp': True})\n",
    "print(gauss_r['x'], end='\\n\\n')\n",
    "\n",
    "print('Nelder-Mead')\n",
    "nelder_r = minimize(rational, [a, b], args=(x, y), method='nelder-mead', tol=0.001, options={'disp': True})\n",
    "print(nelder_r['x'], end='\\n\\n')"
   ]
  },
  {
   "cell_type": "markdown",
   "metadata": {},
   "source": [
    "## Visualization"
   ]
  },
  {
   "cell_type": "code",
   "execution_count": 21,
   "metadata": {},
   "outputs": [
    {
     "data": {
      "image/png": "[encoded data removed]",
      "text/plain": [
       "<Figure size 576x360 with 1 Axes>"
      ]
     },
     "metadata": {
      "needs_background": "light"
     },
     "output_type": "display_data"
    }
   ],
   "source": [
    "plt.figure(figsize=(8,5))\n",
    "plt.title('Linear')\n",
    "plt.scatter(x, y, alpha=0.4, s=60)\n",
    "plt.plot(x, yk, linewidth=2, label='Non-Noise')\n",
    "plt.plot(x, linear_aprox(exhaustive_linear[0], exhaustive_linear[1], x), label='Exhaustive')\n",
    "plt.plot(x, linear_aprox(gauss_linear['x'][0], gauss_linear['x'][1], x), label='Gauss')\n",
    "plt.plot(x, linear_aprox(nelder_linear['x'][0], nelder_linear['x'][1], x), label='Nelder-Mead')\n",
    "plt.legend()\n",
    "plt.show()"
   ]
  },
  {
   "cell_type": "code",
   "execution_count": 23,
   "metadata": {},
   "outputs": [
    {
     "data": {
      "image/png": "[encoded data removed]",
      "text/plain": [
       "<Figure size 576x360 with 1 Axes>"
      ]
     },
     "metadata": {
      "needs_background": "light"
     },
     "output_type": "display_data"
    }
   ],
   "source": [
    "\n",
    "plt.figure(figsize=(8,5))\n",
    "plt.title('Rational')\n",
    "plt.scatter(x, y, alpha=0.4, s=60)\n",
    "plt.plot(x, yk, linewidth=2, label='Non-Noise')\n",
    "plt.plot(x, rational_aprox(exhaustive_r[0], exhaustive_r[1], x), label='Exhaustive')\n",
    "plt.plot(x, rational_aprox(gauss_r['x'][0], gauss_r['x'][1], x), label='Gauss')\n",
    "###plt.plot(x, rational_aprox(nelder_r['x'][0], nelder_r['x'][1], x), label='Nelder-Mead')\n",
    "plt.legend()\n",
    "plt.show()"
   ]
  }
 ],
 "metadata": {
  "interpreter": {
   "hash": "38740d3277777e2cd7c6c2cc9d8addf5118fdf3f82b1b39231fd12aeac8aee8b"
  },
  "kernelspec": {
   "display_name": "Python 3.10.0 64-bit",
   "language": "python",
   "name": "python3"
  },
  "language_info": {
   "codemirror_mode": {
    "name": "ipython",
    "version": 3
   },
   "file_extension": ".py",
   "mimetype": "text/x-python",
   "name": "python",
   "nbconvert_exporter": "python",
   "pygments_lexer": "ipython3",
   "version": "3.10.0"
  },
  "orig_nbformat": 4
 },
 "nbformat": 4,
 "nbformat_minor": 2
}
